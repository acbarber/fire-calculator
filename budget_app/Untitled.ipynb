{
 "cells": [
  {
   "cell_type": "code",
   "execution_count": null,
   "metadata": {},
   "outputs": [],
   "source": [
    "import seaborn as sns\n",
    "import matplotlib.pyplot as plt\n",
    "%matplotlib inline\n",
    "import numpy as np\n",
    "import locale\n",
    "locale.setlocale( locale.LC_ALL, 'en_US.UTF-8' )\n"
   ]
  },
  {
   "cell_type": "code",
   "execution_count": null,
   "metadata": {},
   "outputs": [],
   "source": [
    "a=[100000]\n",
    "for i in range(30):\n",
    "    a.append(a[-1]*1.03)\n",
    "sns.set()\n",
    "ax = sns.lineplot(range(31),a, marker=\"o\", markevery=[30])\n",
    "ax.set_title(\"What happens when you don't pay off your debt\")\n",
    "ax.set_xlabel('Years')\n",
    "ax.set_ylabel('Debt')\n",
    "xt = [0,100000,120000,140000,160000,180000,200000,220000,240000]\n",
    "ax.set_yticklabels([locale.currency(i, grouping=True) for i in xt])\n",
    "ax.text(3+22.1,241000,f'{str(locale.currency(a[-1],grouping=True))}',horizontalalignment='center',verticalalignment='center')\n",
    "ax.get_figure().savefig('debt.jpg',bbox_inches=\"tight\")"
   ]
  },
  {
   "cell_type": "code",
   "execution_count": null,
   "metadata": {},
   "outputs": [],
   "source": [
    "a=[100000]\n",
    "for i in range(30):\n",
    "    a.append((a[-1]*1.03)-5160)\n",
    "sns.set()\n",
    "ax = sns.lineplot(range(31),a, marker=\"o\", markevery=[30])\n",
    "ax.set_title(\"What happens when you DO pay off your debt\")\n",
    "ax.set_xlabel('Years')\n",
    "ax.set_ylabel('Debt')\n",
    "xt = [0,0,20000,40000,60000,80000,100000]\n",
    "ax.set_yticklabels([locale.currency(i, grouping=True) for i in xt])\n",
    "# ax.text(3+23.1,24200,f'{str(locale.currency(a[-1],grouping=True))}',horizontalalignment='center',verticalalignment='center')\n",
    "# ax.text(3+23.1,24200,f'{str(locale.currency(a[-1],grouping=True))}',horizontalalignment='center',verticalalignment='center')\n",
    "ax.get_figure().savefig('debt_2.jpg',bbox_inches=\"tight\")"
   ]
  },
  {
   "cell_type": "code",
   "execution_count": null,
   "metadata": {},
   "outputs": [],
   "source": [
    "locale.currency((516*30)-24272.62, grouping=True) "
   ]
  }
 ],
 "metadata": {
  "kernelspec": {
   "display_name": "Python 3",
   "language": "python",
   "name": "python3"
  },
  "language_info": {
   "codemirror_mode": {
    "name": "ipython",
    "version": 3
   },
   "file_extension": ".py",
   "mimetype": "text/x-python",
   "name": "python",
   "nbconvert_exporter": "python",
   "pygments_lexer": "ipython3",
   "version": "3.6.4"
  }
 },
 "nbformat": 4,
 "nbformat_minor": 4
}
