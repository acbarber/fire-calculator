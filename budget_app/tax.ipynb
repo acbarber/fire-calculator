{
 "cells": [
  {
   "cell_type": "code",
   "execution_count": null,
   "metadata": {},
   "outputs": [],
   "source": [
    "import sys\n",
    "import math\n",
    "import pandas as pd\n",
    "import matplotlib.pyplot as plt\n",
    "%matplotlib inline\n",
    "# import seaborn as sns\n",
    "import requests\n",
    "import json"
   ]
  },
  {
   "cell_type": "code",
   "execution_count": null,
   "metadata": {},
   "outputs": [],
   "source": [
    "with open('taxee_creds.json','r') as f:\n",
    "    creds = json.load(f)"
   ]
  },
  {
   "cell_type": "code",
   "execution_count": null,
   "metadata": {},
   "outputs": [],
   "source": []
  },
  {
   "cell_type": "code",
   "execution_count": null,
   "metadata": {},
   "outputs": [],
   "source": [
    "r = requests.get('https://taxee.io/api/v2/federal/2021', headers =creds )"
   ]
  },
  {
   "cell_type": "code",
   "execution_count": null,
   "metadata": {},
   "outputs": [],
   "source": [
    "fed = r.json()"
   ]
  },
  {
   "cell_type": "code",
   "execution_count": null,
   "metadata": {},
   "outputs": [],
   "source": [
    "fed"
   ]
  },
  {
   "cell_type": "code",
   "execution_count": null,
   "metadata": {},
   "outputs": [],
   "source": [
    "with open('fed.json', 'w') as f:\n",
    "    json.dump(r.json(), f)"
   ]
  },
  {
   "cell_type": "code",
   "execution_count": null,
   "metadata": {},
   "outputs": [],
   "source": [
    "with open('fed.json', 'r') as f:\n",
    "    fed = json.load(f)"
   ]
  },
  {
   "cell_type": "code",
   "execution_count": null,
   "metadata": {},
   "outputs": [],
   "source": [
    "data = fed['single']\n",
    "deduction = data['deductions'][0]['deduction_amount']\n",
    "brackets = [i['bracket'] for i in data['income_tax_brackets']]\n",
    "tax =  [i['marginal_rate'] for i in data['income_tax_brackets']]"
   ]
  },
  {
   "cell_type": "code",
   "execution_count": null,
   "metadata": {},
   "outputs": [],
   "source": [
    "print(deduction)\n",
    "print(brackets)\n",
    "print(len(brackets))\n",
    "print(tax)\n",
    "print(len(tax))"
   ]
  },
  {
   "cell_type": "code",
   "execution_count": null,
   "metadata": {},
   "outputs": [],
   "source": []
  },
  {
   "cell_type": "code",
   "execution_count": null,
   "metadata": {},
   "outputs": [],
   "source": [
    "fed"
   ]
  },
  {
   "cell_type": "code",
   "execution_count": null,
   "metadata": {},
   "outputs": [],
   "source": [
    "def tax(tax_dict, income, filing_status):\n",
    "    \n",
    "    \n",
    "    data = tax_dict[filing_status]\n",
    "    try:\n",
    "        deduction = data['deductions'][0]['deduction_amount']\n",
    "    except:\n",
    "        deduction = 0\n",
    "    brackets = [i['bracket'] for i in data['income_tax_brackets']]\n",
    "    brackets.reverse()\n",
    "    print(brackets)\n",
    "    tax = [i['marginal_rate']/100 for i in data['income_tax_brackets']]\n",
    "    tax.reverse()\n",
    "    print(tax)\n",
    "    taxable_income = income - deduction\n",
    "    \n",
    "    tax_out = 0\n",
    "    inc_remain = taxable_income\n",
    "    for b,t in zip(brackets,tax):\n",
    "        if inc_remain > b:\n",
    "            taxable = inc_remain - b\n",
    "            to = taxable * t\n",
    "            tax_out += to\n",
    "            inc_remain = b\n",
    "\n",
    "\n",
    "    return tax_out"
   ]
  },
  {
   "cell_type": "code",
   "execution_count": null,
   "metadata": {},
   "outputs": [],
   "source": [
    "tax(fed, 200000, 'single')"
   ]
  },
  {
   "cell_type": "code",
   "execution_count": null,
   "metadata": {},
   "outputs": [],
   "source": [
    "states=\"\"\"Alabama\tAL\n",
    "Alaska\tAK\n",
    "Arizona\tAZ\n",
    "Arkansas\tAR\n",
    "California\tCA\n",
    "Colorado\tCO\n",
    "Connecticut\tCT\n",
    "Delaware\tDE\n",
    "Florida\tFL\n",
    "Georgia\tGA\n",
    "Hawaii\tHI\n",
    "Idaho\tID\n",
    "Illinois\tIL\n",
    "Indiana\tIN\n",
    "Iowa\tIA\n",
    "Kansas\tKS\n",
    "Kentucky\tKY\n",
    "Louisiana\tLA\n",
    "Maine\tME\n",
    "Maryland\tMD\n",
    "Massachusetts\tMA\n",
    "Michigan\tMI\n",
    "Minnesota\tMN\n",
    "Mississippi\tMS\n",
    "Missouri\tMO\n",
    "Montana\tMT\n",
    "Nebraska\tNE\n",
    "Nevada\tNV\n",
    "New Hampshire\tNH\n",
    "New Jersey\tNJ\n",
    "New Mexico\tNM\n",
    "New York\tNY\n",
    "North Carolina\tNC\n",
    "North Dakota\tND\n",
    "Ohio\tOH\n",
    "Oklahoma\tOK\n",
    "Oregon\tOR\n",
    "Pennsylvania\tPA\n",
    "Rhode Island\tRI\n",
    "South Carolina\tSC\n",
    "South Dakota\tSD\n",
    "Tennessee\tTN\n",
    "Texas\tTX\n",
    "Utah\tUT\n",
    "Vermont\tVT\n",
    "Virginia\tVA\n",
    "Washington\tWA\n",
    "West Virginia\tWV\n",
    "Wisconsin\tWI\n",
    "Wyoming\tWY\"\"\""
   ]
  },
  {
   "cell_type": "code",
   "execution_count": null,
   "metadata": {},
   "outputs": [],
   "source": [
    "state_dict = {}\n",
    "for i in states.split('\\n'):\n",
    "    o=i.split('\\t')\n",
    "    state_dict[o[0]] = o[1]"
   ]
  },
  {
   "cell_type": "code",
   "execution_count": null,
   "metadata": {},
   "outputs": [],
   "source": []
  },
  {
   "cell_type": "code",
   "execution_count": null,
   "metadata": {},
   "outputs": [],
   "source": [
    "\n"
   ]
  },
  {
   "cell_type": "code",
   "execution_count": null,
   "metadata": {},
   "outputs": [],
   "source": [
    "year = '2020'\n",
    "for v in state_dict.values():\n",
    "    r = requests.get(f'https://taxee.io/api/v2/state/{year}/{v}', headers =creds )\n",
    "    with open(f'state_tax/{year}/{v}.json', 'w') as f:\n",
    "        json.dump(r.json(), f)"
   ]
  },
  {
   "cell_type": "code",
   "execution_count": null,
   "metadata": {},
   "outputs": [],
   "source": [
    "def read_state_tax(state,year):\n",
    "    with open(f'state_tax/{year}/{state}.json', 'r') as f:\n",
    "        return json.load(f)"
   ]
  },
  {
   "cell_type": "code",
   "execution_count": null,
   "metadata": {},
   "outputs": [],
   "source": [
    "mi=read_state_tax('MI','2019')\n",
    "mi"
   ]
  },
  {
   "cell_type": "code",
   "execution_count": null,
   "metadata": {},
   "outputs": [],
   "source": [
    "tax(mi, 200000,'single')"
   ]
  },
  {
   "cell_type": "code",
   "execution_count": null,
   "metadata": {},
   "outputs": [],
   "source": [
    "year = '2020'\n",
    "r = requests.get(f'https://taxee.io/api/v2/federal/{year}', headers =creds )\n",
    "with open(f'federal_tax/{year}/fed.json', 'w') as f:\n",
    "    json.dump(r.json(), f)"
   ]
  },
  {
   "cell_type": "code",
   "execution_count": null,
   "metadata": {},
   "outputs": [],
   "source": []
  }
 ],
 "metadata": {
  "kernelspec": {
   "display_name": "Python 3",
   "language": "python",
   "name": "python3"
  },
  "language_info": {
   "codemirror_mode": {
    "name": "ipython",
    "version": 3
   },
   "file_extension": ".py",
   "mimetype": "text/x-python",
   "name": "python",
   "nbconvert_exporter": "python",
   "pygments_lexer": "ipython3",
   "version": "3.6.4"
  }
 },
 "nbformat": 4,
 "nbformat_minor": 4
}
